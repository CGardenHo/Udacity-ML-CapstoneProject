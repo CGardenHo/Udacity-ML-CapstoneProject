{
 "cells": [
  {
   "cell_type": "markdown",
   "metadata": {},
   "source": [
    "## Preprocessing train dataset\n",
    "\n",
    "Divide the *train* folder into two folders *mytrain* and *myvalid*\n",
    "\n",
    "- Gtrain ---- including two folders \n",
    "    - CatTrain ---- including about 11250 cat images \n",
    "    - DogTrain ---- including about 11250 dog images \n",
    "\n",
    "- Gvalid ---- including two folders \n",
    "    - CatValid ---- including about 1250 cat images\n",
    "    - DogValid ---- including about 1250 dog images"
   ]
  },
  {
   "cell_type": "code",
   "execution_count": 1,
   "metadata": {},
   "outputs": [],
   "source": [
    "from sklearn.model_selection import train_test_split\n",
    "import seaborn as sns\n",
    "import os\n",
    "import subprocess\n",
    "import shutil\n",
    "%matplotlib inline"
   ]
  },
  {
   "cell_type": "markdown",
   "metadata": {},
   "source": [
    "## Visualize the size of the original *train* dataset."
   ]
  },
  {
   "cell_type": "code",
   "execution_count": 2,
   "metadata": {
    "scrolled": true
   },
   "outputs": [
    {
     "data": {
      "image/png": "[encoded data removed]",
      "text/plain": [
       "<matplotlib.figure.Figure at 0x1c4c45a1860>"
      ]
     },
     "metadata": {},
     "output_type": "display_data"
    }
   ],
   "source": [
    "train_filenames = os.listdir('train')\n",
    "CatTrain = filter(lambda x:x[:3] == 'cat', train_filenames)\n",
    "DogTrain = filter(lambda x:x[:3] == 'dog', train_filenames)\n",
    "lcat = [x for x in train_filenames if x[:3] == 'cat']\n",
    "ldog = [x for x in train_filenames if x[:3] == 'dog']\n",
    "x = ['CatTrain', 'DogTrain', 'test']\n",
    "y = [len(lcat), len(ldog), len(os.listdir('test'))]\n",
    "ax = sns.barplot(x=x, y=y)"
   ]
  },
  {
   "cell_type": "markdown",
   "metadata": {},
   "source": [
    "## Shuffle and split the train filenames"
   ]
  },
  {
   "cell_type": "code",
   "execution_count": 3,
   "metadata": {
    "scrolled": true
   },
   "outputs": [
    {
     "name": "stdout",
     "output_type": "stream",
     "text": [
      "22500\n",
      "2500\n"
     ]
    }
   ],
   "source": [
    "Gtrain, Gvalid = train_test_split(train_filenames, test_size=0.1)\n",
    "print (len(Gtrain))\n",
    "print (len(Gvalid))"
   ]
  },
  {
   "cell_type": "markdown",
   "metadata": {},
   "source": [
    "## Visualize the size of the processed train dataset"
   ]
  },
  {
   "cell_type": "code",
   "execution_count": 4,
   "metadata": {},
   "outputs": [
    {
     "data": {
      "image/png": "[encoded data removed]",
      "text/plain": [
       "<matplotlib.figure.Figure at 0x1c4c68f5a90>"
      ]
     },
     "metadata": {},
     "output_type": "display_data"
    }
   ],
   "source": [
    "CatTrain = filter(lambda x:x[:3] == 'cat', Gtrain)\n",
    "DogTrain = filter(lambda x:x[:3] == 'dog', Gtrain)\n",
    "CatValid = filter(lambda x:x[:3] == 'cat', Gvalid)\n",
    "DogValid = filter(lambda x:x[:3] == 'dog', Gvalid)\n",
    "\n",
    "TCat = [x for x in Gtrain if x[:3] == 'cat']\n",
    "TDog = [x for x in Gtrain if x[:3] == 'dog']\n",
    "VCat = [x for x in Gvalid if x[:3] == 'cat']\n",
    "VDog = [x for x in Gvalid if x[:3] == 'dog']\n",
    "\n",
    "x = ['CatTrain', 'DogTrain', 'CatValid', 'DogValid']\n",
    "y = [len(TCat), len(TDog), len(VCat), len(VDog)]\n",
    "\n",
    "ax = sns.barplot(x=x, y=y)"
   ]
  },
  {
   "cell_type": "markdown",
   "metadata": {},
   "source": [
    "## Create symbolic link of images"
   ]
  },
  {
   "cell_type": "code",
   "execution_count": 5,
   "metadata": {},
   "outputs": [],
   "source": [
    "def delete_and_create_class(dirname):\n",
    "    if os.path.exists(dirname):\n",
    "        shutil.rmtree(dirname)\n",
    "    os.mkdir(dirname)\n",
    "    os.mkdir(dirname+'/cat')\n",
    "    os.mkdir(dirname+'/dog')\n",
    "\n",
    "delete_and_create_class('Gtrain')\n",
    "delete_and_create_class('Gvalid')\n",
    "\n",
    "\n",
    "os.system('fsutil behavior set SymlinkEvaluation L2L:1 L2R:0')\n",
    "    \n",
    "for filename in CatTrain:\n",
    "    subprocess.check_call('mklink \"%s\" \"%s\"' % ('D:/BaiduYunDownload/Machine Learning/Final Project/CD/Gtrain/cat/'.replace('/', '\\\\')+filename,\\\n",
    "                                                'D:/BaiduYunDownload/Machine Learning/Final Project/CD/train/'.replace('/', '\\\\')+filename), shell=True)\n",
    "\n",
    "for filename in DogTrain:\n",
    "    subprocess.check_call('mklink \"%s\" \"%s\"' % ('D:/BaiduYunDownload/Machine Learning/Final Project/CD/Gtrain/dog/'.replace('/', '\\\\')+filename,\\\n",
    "                                                'D:/BaiduYunDownload/Machine Learning/Final Project/CD/train/'.replace('/', '\\\\')+filename), shell=True)\n",
    "\n",
    "\n",
    "for filename in CatValid:\n",
    "    subprocess.check_call('mklink \"%s\" \"%s\"' % ('D:/BaiduYunDownload/Machine Learning/Final Project/CD/Gvalid/cat/'.replace('/', '\\\\')+filename,\\\n",
    "                                                'D:/BaiduYunDownload/Machine Learning/Final Project/CD/train/'.replace('/', '\\\\')+filename), shell=True)\n",
    "\n",
    "    \n",
    "for filename in DogValid:\n",
    "    subprocess.check_call('mklink \"%s\" \"%s\"' % ('D:/BaiduYunDownload/Machine Learning/Final Project/CD/Gvalid/dog/'.replace('/', '\\\\')+filename,\\\n",
    "                                                'D:/BaiduYunDownload/Machine Learning/Final Project/CD/train/'.replace('/', '\\\\')+filename), shell=True)\n",
    "\n"
   ]
  },
  {
   "cell_type": "code",
   "execution_count": null,
   "metadata": {
    "collapsed": true
   },
   "outputs": [],
   "source": []
  }
 ],
 "metadata": {
  "kernelspec": {
   "display_name": "Python 3",
   "language": "python",
   "name": "python3"
  },
  "language_info": {
   "codemirror_mode": {
    "name": "ipython",
    "version": 3
   },
   "file_extension": ".py",
   "mimetype": "text/x-python",
   "name": "python",
   "nbconvert_exporter": "python",
   "pygments_lexer": "ipython3",
   "version": "3.5.4"
  }
 },
 "nbformat": 4,
 "nbformat_minor": 1
}
